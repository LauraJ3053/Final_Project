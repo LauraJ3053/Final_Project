{
 "cells": [
  {
   "cell_type": "code",
   "execution_count": 1,
   "metadata": {},
   "outputs": [],
   "source": [
    "%matplotlib inline\n",
    "import matplotlib.pyplot as plt\n",
    "import numpy as np\n",
    "import pandas as pd\n",
    "import glob"
   ]
  },
  {
   "cell_type": "code",
   "execution_count": 2,
   "metadata": {},
   "outputs": [],
   "source": [
    "path = r\"C:/Users/Douglas/Documents/DataBootCamp/FinalGroupProject/nfl-combine\"\n",
    "all_files = glob.glob(path + \"/*.csv\")\n",
    "li = []\n",
    "for filename in all_files:\n",
    "    df = pd.read_csv(filename, index_col=None, header=0)\n",
    "    li.append(df)\n",
    "frame = pd.concat(li, axis=0, ignore_index=True,sort=False)"
   ]
  },
  {
   "cell_type": "code",
   "execution_count": 3,
   "metadata": {
    "scrolled": true
   },
   "outputs": [],
   "source": [
    "frame['Team'] = frame['Drafted (tm/rnd/yr)'].str.split(\"/\", n = 4, expand = True) [0].str.strip()\n",
    "frame['Round'] = frame['Drafted (tm/rnd/yr)'].str.split(\"/\", n = 4, expand = True) [1].str.replace(r'[a-zA-Z]', '').astype(float)\n",
    "frame['Pick'] = frame['Drafted (tm/rnd/yr)'].str.split(\"/\", n = 4, expand = True) [2].str.replace(r'[a-zA-Z]', '').astype(float)\n",
    "frame['Height'] = frame['Height'].str.split(\"-\", n = 2, expand = True) [0].astype(float)*12 + frame['Height'].str.split(\"-\", n = 2, expand = True) [1].astype(float)\n",
    "frame.to_csv(\"C:/Users/Douglas/Documents/DataBootCamp/FinalGroupProject/nfl-combine/Combined.csv\", index=False, header=True)"
   ]
  },
  {
   "cell_type": "code",
   "execution_count": 4,
   "metadata": {},
   "outputs": [],
   "source": [
    "combine = frame[[\"Rk\", \"AV\",\"Height\",\"Wt\",\"40YD\",\"Vertical\",\"BenchReps\",\"Broad Jump\",\"3Cone\",\"Shuttle\",\"Pos\",\"Pick\",\"Round\"]].dropna(how='any')\n",
    "combine = pd.get_dummies(combine)\n",
    "combine = combine.dropna(how='any')"
   ]
  },
  {
   "cell_type": "code",
   "execution_count": 5,
   "metadata": {},
   "outputs": [
    {
     "name": "stdout",
     "output_type": "stream",
     "text": [
      "(1668, 24) (1668, 1)\n"
     ]
    }
   ],
   "source": [
    "# Assign the data to X and y\n",
    "X = combine[[\"Rk\", \"AV\",\"Height\",\"Wt\",\"40YD\",\"Vertical\",\"BenchReps\",\"Broad Jump\",\"3Cone\",\"Shuttle\",\"Pos_CB\",\"Pos_DE\",\"Pos_DT\",\"Pos_FB\",\"Pos_FS\",\"Pos_ILB\",\"Pos_OG\",\"Pos_OLB\",\"Pos_OT\",\"Pos_QB\",\"Pos_RB\",\"Pos_SS\",\"Pos_TE\",\"Pos_WR\"]]\n",
    "y = combine[\"Pick\"].values.reshape(-1, 1)\n",
    "print(X.shape, y.shape)"
   ]
  },
  {
   "cell_type": "code",
   "execution_count": 6,
   "metadata": {},
   "outputs": [],
   "source": [
    "# Use train_test_split to create training and testing data\n",
    "\n",
    "### BEGIN SOLUTION\n",
    "from sklearn.model_selection import train_test_split\n",
    "\n",
    "X_train, X_test, y_train, y_test = train_test_split(X, y, random_state=42)\n",
    "\n",
    "### END SOLUTION"
   ]
  },
  {
   "cell_type": "code",
   "execution_count": 7,
   "metadata": {},
   "outputs": [],
   "source": [
    "# Create the model using LinearRegression\n",
    "\n",
    "### BEGIN SOLUTION\n",
    "from sklearn.linear_model import LinearRegression\n",
    "model = LinearRegression()\n",
    "### END SOLUTION"
   ]
  },
  {
   "cell_type": "code",
   "execution_count": 8,
   "metadata": {},
   "outputs": [
    {
     "name": "stdout",
     "output_type": "stream",
     "text": [
      "Training Score: 0.26411898135151723\n",
      "Testing Score: 0.26318657749194074\n"
     ]
    }
   ],
   "source": [
    "# Fit the model to the training data and calculate the scores for the training and testing data\n",
    "\n",
    "### BEGIN SOLUTION\n",
    "model.fit(X_train, y_train)\n",
    "training_score = model.score(X_train, y_train)\n",
    "testing_score = model.score(X_test, y_test)\n",
    "\n",
    "### END SOLUTION \n",
    "\n",
    "print(f\"Training Score: {training_score}\")\n",
    "print(f\"Testing Score: {testing_score}\")"
   ]
  },
  {
   "cell_type": "code",
   "execution_count": 9,
   "metadata": {},
   "outputs": [
    {
     "data": {
      "text/plain": [
       "array([[-3.17399703e-02, -1.10585046e+00,  2.39386544e+00,\n",
       "        -1.13127931e+00,  8.25363255e+01,  6.48821841e-01,\n",
       "        -5.26454999e-01, -1.77718301e+00,  2.46651089e+01,\n",
       "        -6.20744380e+00, -2.98304347e+01,  8.65878551e+00,\n",
       "         1.19966284e+01,  2.18360711e+01, -1.45965489e+01,\n",
       "         1.28625344e+01,  4.21294575e+00,  6.95762002e+00,\n",
       "         9.47427491e-01, -2.90218989e+01,  5.03160890e+00,\n",
       "         6.61709878e+00,  6.29991955e+00, -1.19717573e+01]])"
      ]
     },
     "execution_count": 9,
     "metadata": {},
     "output_type": "execute_result"
    }
   ],
   "source": [
    "model.coef_"
   ]
  },
  {
   "cell_type": "code",
   "execution_count": 10,
   "metadata": {},
   "outputs": [
    {
     "data": {
      "text/plain": [
       "array([-108.00627721])"
      ]
     },
     "execution_count": 10,
     "metadata": {},
     "output_type": "execute_result"
    }
   ],
   "source": [
    "model.intercept_"
   ]
  },
  {
   "cell_type": "code",
   "execution_count": 11,
   "metadata": {},
   "outputs": [
    {
     "data": {
      "text/plain": [
       "Text(0.5, 1.0, 'Residual Plot')"
      ]
     },
     "execution_count": 11,
     "metadata": {},
     "output_type": "execute_result"
    },
    {
     "data": {
      "image/png": "[encoded data removed]",
      "text/plain": [
       "<Figure size 432x288 with 1 Axes>"
      ]
     },
     "metadata": {
      "needs_background": "light"
     },
     "output_type": "display_data"
    }
   ],
   "source": [
    "# Plot the Residuals for the Training and Testing data\n",
    "\n",
    "### BEGIN SOLUTION\n",
    "plt.scatter(model.predict(X_train), model.predict(X_train) - y_train, c=\"blue\", label=\"Training Data\")\n",
    "plt.scatter(model.predict(X_test), model.predict(X_test) - y_test, c=\"orange\", label=\"Testing Data\")\n",
    "plt.legend()\n",
    "plt.hlines(y=0, xmin=y.min(), xmax=y.max())\n",
    "plt.title(\"Residual Plot\")\n",
    "### END SOLUTION"
   ]
  },
  {
   "cell_type": "code",
   "execution_count": null,
   "metadata": {},
   "outputs": [],
   "source": [
    "# Assign the data to X and y\n",
    "X = combine[[\"Rk\", \"AV\",\"Height\",\"Wt\",\"40YD\",\"Vertical\",\"BenchReps\",\"Broad Jump\",\"3Cone\",\"Shuttle\",\"Pos_CB\",\"Pos_DE\",\"Pos_DT\",\"Pos_FB\",\"Pos_FS\",\"Pos_ILB\",\"Pos_OG\",\"Pos_OLB\",\"Pos_OT\",\"Pos_QB\",\"Pos_RB\",\"Pos_SS\",\"Pos_TE\",\"Pos_WR\"]]\n",
    "y = combine[\"Pick\"].values.reshape(-1, 1)\n",
    "print(X.shape, y.shape)"
   ]
  },
  {
   "cell_type": "code",
   "execution_count": null,
   "metadata": {},
   "outputs": [],
   "source": [
    "# Create the model using LinearRegression\n",
    "\n",
    "### BEGIN SOLUTION\n",
    "from sklearn.linear_model import SGDClassifier\n",
    "model = SGDClassifier()\n",
    "### END SOLUTION"
   ]
  }
 ],
 "metadata": {
  "kernelspec": {
   "display_name": "Python 3",
   "language": "python",
   "name": "python3"
  },
  "language_info": {
   "codemirror_mode": {
    "name": "ipython",
    "version": 3
   },
   "file_extension": ".py",
   "mimetype": "text/x-python",
   "name": "python",
   "nbconvert_exporter": "python",
   "pygments_lexer": "ipython3",
   "version": "3.7.3"
  }
 },
 "nbformat": 4,
 "nbformat_minor": 2
}
